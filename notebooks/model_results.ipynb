{
 "cells": [
  {
   "cell_type": "code",
   "execution_count": 3,
   "id": "31c5a485-fe23-47ef-b37f-cfacdc6f8682",
   "metadata": {},
   "outputs": [
    {
     "name": "stdout",
     "output_type": "stream",
     "text": [
      "c:\\Users\\Jonas\\Documents\\projects\\git\\verifymydoghorse\n"
     ]
    }
   ],
   "source": [
    "import os\n",
    "import numpy as np\n",
    "from ultralytics import YOLO\n",
    "os.chdir('..')\n",
    "print(os.getcwd())"
   ]
  },
  {
   "cell_type": "markdown",
   "id": "27ad4db7-7f7a-405f-b115-e8c1674b41bb",
   "metadata": {},
   "source": [
    "# load yolo model"
   ]
  },
  {
   "cell_type": "code",
   "execution_count": 4,
   "id": "65df76ef-bc66-4ee6-bb15-a465530eb30e",
   "metadata": {},
   "outputs": [],
   "source": [
    "model = YOLO(f'runs\\\\detect\\\\train\\\\weights\\\\best.pt')"
   ]
  },
  {
   "cell_type": "markdown",
   "id": "7f910b56-22ae-4383-89ac-234f41e7fb88",
   "metadata": {},
   "source": [
    "## metrics for validation split"
   ]
  },
  {
   "cell_type": "code",
   "execution_count": 5,
   "id": "90e4cce2-cd25-4a7e-85e8-fa5ded5c8254",
   "metadata": {},
   "outputs": [
    {
     "name": "stdout",
     "output_type": "stream",
     "text": [
      "Ultralytics YOLOv8.2.38  Python-3.8.19 torch-2.0.1+cu117 CUDA:0 (NVIDIA GeForce RTX 4070 Ti, 12282MiB)\n",
      "Model summary (fused): 168 layers, 3006038 parameters, 0 gradients, 8.1 GFLOPs\n",
      "WARNING  renaming data YAML 'validation' key to 'val' to match YOLO format.\n"
     ]
    },
    {
     "name": "stderr",
     "output_type": "stream",
     "text": [
      "\u001b[34m\u001b[1mval: \u001b[0mScanning C:\\Users\\Jonas\\Documents\\projects\\verifymydoghorse\\data\\yolo_dataset\\labels\\validation.cache... 1861 images, 0 backgrounds, 0 corrupt: 100%|██████████| 1861/1861 [00:00<?, ?it/s]\n",
      "                 Class     Images  Instances      Box(P          R      mAP50  mAP50-95): 100%|██████████| 117/117 [00:05<00:00, 21.18it/s]\n"
     ]
    },
    {
     "name": "stdout",
     "output_type": "stream",
     "text": [
      "                   all       1861       2354      0.859      0.826      0.879      0.749\n",
      "                   Dog       1586       1937      0.946      0.875      0.951      0.821\n",
      "                 Horse        277        417      0.771      0.777      0.806      0.676\n",
      "Speed: 0.1ms preprocess, 1.0ms inference, 0.0ms loss, 0.4ms postprocess per image\n",
      "Results saved to \u001b[1mruns\\detect\\val\u001b[0m\n"
     ]
    }
   ],
   "source": [
    "val = model.val(split='val')"
   ]
  },
  {
   "cell_type": "markdown",
   "id": "47bede41-fcc4-4385-a4f5-5c9b51c80792",
   "metadata": {},
   "source": [
    "### performance in terms of object detection accuracy (mean average precision)"
   ]
  },
  {
   "cell_type": "code",
   "execution_count": 6,
   "id": "3b455036-d003-4d87-a1d5-fbba7e300988",
   "metadata": {},
   "outputs": [
    {
     "name": "stdout",
     "output_type": "stream",
     "text": [
      "val map: 0.748751230433168\n",
      "val dog ap: 0.8211254804597168\n",
      "val horse ap: 0.6763769804066194\n"
     ]
    }
   ],
   "source": [
    "print(f\"val map: {val.box.map}\")\n",
    "print(f\"val dog ap: {val.box.ap[0]}\")\n",
    "print(f\"val horse ap: {val.box.ap[1]}\")"
   ]
  },
  {
   "cell_type": "code",
   "execution_count": 7,
   "id": "61e2577c-447e-4dd6-92f8-874f78e0d6c5",
   "metadata": {},
   "outputs": [
    {
     "name": "stdout",
     "output_type": "stream",
     "text": [
      "val map50: 0.8786124802984723\n",
      "val dog ap50: 0.9508516706792876\n",
      "val horse ap50: 0.8063732899176571\n"
     ]
    }
   ],
   "source": [
    "print(f\"val map50: {val.box.map50}\")\n",
    "print(f\"val dog ap50: {val.box.ap50[0]}\")\n",
    "print(f\"val horse ap50: {val.box.ap50[1]}\")"
   ]
  },
  {
   "cell_type": "markdown",
   "id": "ef890a61-8241-4441-8fc0-097d51bc2085",
   "metadata": {},
   "source": [
    "### performance in terms of object classification accuracy."
   ]
  },
  {
   "cell_type": "code",
   "execution_count": 8,
   "id": "4d655830-9c72-42d5-843f-e637018ac68a",
   "metadata": {},
   "outputs": [
    {
     "name": "stdout",
     "output_type": "stream",
     "text": [
      "val dog acc: 0.9184305627258648\n",
      "val horse acc: 0.841726618705036\n",
      "val model acc: 0.7891811782141533\n"
     ]
    }
   ],
   "source": [
    "print(f\"val dog acc: {val.confusion_matrix.matrix[0][0]/val.confusion_matrix.matrix.sum(axis=0)[0]}\")\n",
    "print(f\"val horse acc: {val.confusion_matrix.matrix[1][1]/val.confusion_matrix.matrix.sum(axis=0)[1]}\")\n",
    "print(f\"val model acc: {np.trace(val.confusion_matrix.matrix)/val.confusion_matrix.matrix.sum()}\")"
   ]
  },
  {
   "cell_type": "markdown",
   "id": "e295c7c3-9a63-4b41-b710-9d890a16abbf",
   "metadata": {},
   "source": [
    "## metrics for test split"
   ]
  },
  {
   "cell_type": "code",
   "execution_count": 9,
   "id": "fc75456f-55de-4e1b-b3cd-3003b7e0fb0e",
   "metadata": {},
   "outputs": [
    {
     "name": "stdout",
     "output_type": "stream",
     "text": [
      "Ultralytics YOLOv8.2.38  Python-3.8.19 torch-2.0.1+cu117 CUDA:0 (NVIDIA GeForce RTX 4070 Ti, 12282MiB)\n",
      "WARNING  renaming data YAML 'validation' key to 'val' to match YOLO format.\n"
     ]
    },
    {
     "name": "stderr",
     "output_type": "stream",
     "text": [
      "\u001b[34m\u001b[1mval: \u001b[0mScanning C:\\Users\\Jonas\\Documents\\projects\\verifymydoghorse\\data\\yolo_dataset\\labels\\test.cache... 5639 images, 0 backgrounds, 0 corrupt: 100%|██████████| 5639/5639 [00:00<?, ?it/s]\n",
      "                 Class     Images  Instances      Box(P          R      mAP50  mAP50-95): 100%|██████████| 353/353 [00:21<00:00, 16.28it/s]\n"
     ]
    },
    {
     "name": "stdout",
     "output_type": "stream",
     "text": [
      "                   all       5639       7026      0.833       0.83       0.86      0.727\n",
      "                   Dog       4835       5856      0.943      0.881      0.944       0.81\n",
      "                 Horse        811       1170      0.722      0.778      0.776      0.644\n",
      "Speed: 0.1ms preprocess, 1.9ms inference, 0.0ms loss, 0.4ms postprocess per image\n",
      "Results saved to \u001b[1mruns\\detect\\val2\u001b[0m\n"
     ]
    }
   ],
   "source": [
    "test = model.val(split='test')"
   ]
  },
  {
   "cell_type": "markdown",
   "id": "e8f0fe70-9f9d-4df4-8f7f-77568832f481",
   "metadata": {},
   "source": [
    "### performance in terms of object detection accuracy (mean average precision)"
   ]
  },
  {
   "cell_type": "code",
   "execution_count": 13,
   "id": "ddd13b53-97ff-487c-b099-ba11e7a585af",
   "metadata": {},
   "outputs": [
    {
     "name": "stdout",
     "output_type": "stream",
     "text": [
      "test map: 0.7272326103252278\n",
      "test dog ap: 0.810029553945548\n",
      "test horse ap: 0.6444356667049078\n"
     ]
    }
   ],
   "source": [
    "print(f\"test map: {test.box.map}\")\n",
    "print(f\"test dog ap: {test.box.ap[0]}\")\n",
    "print(f\"test horse ap: {test.box.ap[1]}\")"
   ]
  },
  {
   "cell_type": "code",
   "execution_count": 14,
   "id": "599e6235-f562-4dab-9930-3328e5df5f08",
   "metadata": {},
   "outputs": [
    {
     "name": "stdout",
     "output_type": "stream",
     "text": [
      "test map50: 0.859849345203981\n",
      "test dog ap50: 0.9439401755477043\n",
      "test horse ap50: 0.7757585148602579\n"
     ]
    }
   ],
   "source": [
    "print(f\"test map50: {test.box.map50}\")\n",
    "print(f\"test dog ap50: {test.box.ap50[0]}\")\n",
    "print(f\"test horse ap50: {test.box.ap50[1]}\")"
   ]
  },
  {
   "cell_type": "markdown",
   "id": "e4c21c30-cb49-4777-b4f2-34e7a5e7b39f",
   "metadata": {},
   "source": [
    "### performance in terms of object classification accuracy."
   ]
  },
  {
   "cell_type": "code",
   "execution_count": 15,
   "id": "d4be4962-e817-434e-bce5-819cff29ce4b",
   "metadata": {},
   "outputs": [
    {
     "name": "stdout",
     "output_type": "stream",
     "text": [
      "test dog acc: 0.9164959016393442\n",
      "test horse acc: 0.8341880341880342\n",
      "test model acc: 0.7921818408892219\n"
     ]
    }
   ],
   "source": [
    "print(f\"test dog acc: {test.confusion_matrix.matrix[0][0]/test.confusion_matrix.matrix.sum(axis=0)[0]}\")\n",
    "print(f\"test horse acc: {test.confusion_matrix.matrix[1][1]/test.confusion_matrix.matrix.sum(axis=0)[1]}\")\n",
    "print(f\"test model acc: {np.trace(test.confusion_matrix.matrix)/test.confusion_matrix.matrix.sum()}\")"
   ]
  },
  {
   "cell_type": "code",
   "execution_count": null,
   "id": "1d373b20-923f-4890-add6-375c7c7b788d",
   "metadata": {},
   "outputs": [],
   "source": []
  },
  {
   "cell_type": "code",
   "execution_count": null,
   "id": "d46566e6",
   "metadata": {},
   "outputs": [],
   "source": []
  }
 ],
 "metadata": {
  "kernelspec": {
   "display_name": "Python 3 (ipykernel)",
   "language": "python",
   "name": "python3"
  },
  "language_info": {
   "codemirror_mode": {
    "name": "ipython",
    "version": 3
   },
   "file_extension": ".py",
   "mimetype": "text/x-python",
   "name": "python",
   "nbconvert_exporter": "python",
   "pygments_lexer": "ipython3",
   "version": "3.8.19"
  }
 },
 "nbformat": 4,
 "nbformat_minor": 5
}
